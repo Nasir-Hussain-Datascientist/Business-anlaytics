{
 "cells": [
  {
   "cell_type": "code",
   "execution_count": 3,
   "id": "87c329ed-169f-46ac-a8bb-3fefb29234aa",
   "metadata": {},
   "outputs": [
    {
     "name": "stdout",
     "output_type": "stream",
     "text": [
      "Column names in the Excel file: Revenue Monitoring Committee Report_April.xlsx\n",
      "'Cost Centres'\n",
      "'Revised\n",
      "Budget £'\n",
      "'Total Full Year\n",
      "Projection £000'\n",
      "'Full Year Variance\n",
      "*() = u'spend'\n",
      "'% Variance'\n",
      "'Movement\n",
      "from,Apr Monitoring'\n"
     ]
    }
   ],
   "source": [
    "import pandas as pd\n",
    "\n",
    "# Load the Excel file\n",
    "file_path = 'Revenue Monitoring Committee Report_April.xlsx'  # Update this with the path to your Excel file\n",
    "df = pd.read_excel(file_path)\n",
    "\n",
    "# Print the column names\n",
    "print(\"Column names in the Excel file:\",file_path)\n",
    "for col in df.columns:\n",
    "    print(f\"'{col}'\")\n"
   ]
  },
  {
   "cell_type": "code",
   "execution_count": null,
   "id": "e85ebae4-ba5d-47a1-b725-c760400e028a",
   "metadata": {},
   "outputs": [],
   "source": []
  }
 ],
 "metadata": {
  "kernelspec": {
   "display_name": "Python 3 (ipykernel)",
   "language": "python",
   "name": "python3"
  },
  "language_info": {
   "codemirror_mode": {
    "name": "ipython",
    "version": 3
   },
   "file_extension": ".py",
   "mimetype": "text/x-python",
   "name": "python",
   "nbconvert_exporter": "python",
   "pygments_lexer": "ipython3",
   "version": "3.11.3"
  }
 },
 "nbformat": 4,
 "nbformat_minor": 5
}
