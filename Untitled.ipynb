{
 "cells": [
  {
   "cell_type": "code",
   "execution_count": 2,
   "id": "c622ceb2-60a0-4e9b-bbfe-754fcca6298d",
   "metadata": {},
   "outputs": [
    {
     "name": "stdout",
     "output_type": "stream",
     "text": [
      "Filename: Account Receivables_Age Credit Balance Report.xlsx\n",
      "Columns: Account Number, Site, Profile Class Name, Customer Balance, 1930-01-01 00:00:00, 31-60, 60-90, 90+, Transaction Number, Transaction Date, Due Date, Original Transaction Balance, Outstanding Balance, Unpaid Reason\n",
      "Filename: Account Receivables_Age Debt Report.xlsx\n",
      "Columns: Account Number, Site, Profile Class Name, Customer Balance, 1930-01-01 00:00:00, 31-60, 60-90, 90+, Transaction Number, Transaction Date, Due Date, Original Transaction Balance, Outstanding Balance, Unpaid Reason\n",
      "Filename: All Expenses.xlsx\n",
      "Columns: Employee Name, Report Submission Date, Report Number, Description, Expense Report Date, Expense Type, Trip Distance, Distance Unit, Cost Center Code, Reimbursable Amount, Report Status, Final Approval Date\n",
      "Filename: Daily Account Balances.xlsx\n",
      "Columns: Account Identifier, Currency, Balance date, Last Night's Ledger, Today's Ledger, Last Night's Cleared, Today's Cleared, Start Of Day Ledger, Start Of Day Cleared, None\n",
      "Filename: HR Help Desk.xlsx\n",
      "Columns: Reference Number, Summary, Queue Name, Category Name, Employee Assignment Number, Job Name, Department Name, Creation Date, Average Time to Resolve (Days), Resolution Date, Agent Assignment Number, # of Requests, Status\n",
      "Filename: Invoice_Extract.xlsx\n",
      "Columns: Invoice Number, Line, Hold Reason, Releasable, Held By, Due Date, Assigned To, Business Unit, Invoice Type, Payment Terms, Supplier Site, Amount, Currency\n",
      "Filename: Mailboxx.xlsx\n",
      "Columns: Date, Day, Accounts Payable Mailbox, Backlog: Earliest Unread, BAU Churn:\n",
      "Emails Up to, Creditors Mailbox, Backlog: Earliest Unread, BAU Churn:\n",
      "Emails Up to, Creditors Creations Mailbox, Earliest Unread, BAU Churn:\n",
      "Emails Up to, Creditors Manual Mailbox, Earliest Unread, BAU Churn:\n",
      "Emails Up to, with suppliers that need created - earliest inputting, ELCOM AP Invoices\n",
      "Filename: Revenue Monitoring Committee Report April.xlsx\n",
      "Columns: Cost Centres, Revised\n",
      "Budget £, Total Full Year\n",
      "Projection £000, Full Year Variance\n",
      ", % Variance, Movement\n",
      "from,Apr Monitoring\n",
      "Filename: SC AR Customer Aging by Bucket List Report_Output - Anonymous.xlsx\n",
      "Columns: Customer Name, CAN, None, Bill To Site, Collector, None, Sales Person, None, Trans No., Instalment Number, None, Due Date, None, None, Aging Bucket, Original Balance, Collected, Amount Remaining, Profile Class, None\n"
     ]
    }
   ],
   "source": [
    "import os\n",
    "from openpyxl import load_workbook\n",
    "\n",
    "def list_xlsx_files_and_columns(directory):\n",
    "    # Get the list of all files in the directory\n",
    "    files = os.listdir(directory)\n",
    "    \n",
    "    # Filter out only the .xlsx files\n",
    "    xlsx_files = [file for file in files if file.endswith('.xlsx')]\n",
    "    \n",
    "    for file in xlsx_files:\n",
    "        print(f\"Filename: {file}\")\n",
    "        filepath = os.path.join(directory, file)\n",
    "        \n",
    "        try:\n",
    "            # Load the workbook and get the first sheet\n",
    "            wb = load_workbook(filepath, read_only=True)\n",
    "            sheet = wb.active\n",
    "            \n",
    "            # Get column names from the first row\n",
    "            columns = [sheet.cell(row=1, column=col).value for col in range(1, sheet.max_column + 1)]\n",
    "            \n",
    "            print(f\"Columns: {', '.join(map(str, columns))}\")\n",
    "        except Exception as e:\n",
    "            print(f\"Could not read file {file} due to: {e}\")\n",
    "\n",
    "# Run the function in the current directory\n",
    "list_xlsx_files_and_columns('.')\n"
   ]
  },
  {
   "cell_type": "code",
   "execution_count": null,
   "id": "dde2f79f-58f0-4b8e-b88e-32c08a6e9a6f",
   "metadata": {},
   "outputs": [],
   "source": []
  }
 ],
 "metadata": {
  "kernelspec": {
   "display_name": "datascience",
   "language": "python",
   "name": "datascience"
  },
  "language_info": {
   "codemirror_mode": {
    "name": "ipython",
    "version": 3
   },
   "file_extension": ".py",
   "mimetype": "text/x-python",
   "name": "python",
   "nbconvert_exporter": "python",
   "pygments_lexer": "ipython3",
   "version": "3.10.9"
  }
 },
 "nbformat": 4,
 "nbformat_minor": 5
}
